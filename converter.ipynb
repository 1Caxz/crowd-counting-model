{
 "cells": [
  {
   "cell_type": "code",
   "execution_count": 2,
   "id": "75ca4f37",
   "metadata": {},
   "outputs": [
    {
     "name": "stdout",
     "output_type": "stream",
     "text": [
      "🔍 Output shape: torch.Size([1, 1, 64, 64])\n"
     ]
    }
   ],
   "source": [
    "import torch\n",
    "from models.csrnet_mbv3 import MobileCSRNet\n",
    "import os\n",
    "\n",
    "model = MobileCSRNet()\n",
    "model.load_state_dict(torch.load(\"build/csrnet_mobile_B.pt\", map_location='cpu'))\n",
    "model.eval()\n",
    "\n",
    "dummy_input = torch.randn(1, 3, 512, 512)\n",
    "output = model(dummy_input)\n",
    "print(\"🔍 Output shape:\", output.shape)\n",
    "\n",
    "# Optional: TorchScript\n",
    "traced_model = torch.jit.trace(model, dummy_input)\n",
    "traced_model.save(\"build/csrnet_mobile_B_scripted.pt\")\n",
    "\n",
    "# ONNX Export\n",
    "torch.onnx.export(\n",
    "    model,\n",
    "    dummy_input,\n",
    "    \"build/csrnet_mobile_B.onnx\",\n",
    "    input_names=['input'],\n",
    "    output_names=['output'],\n",
    "    dynamic_axes={'input': {0: 'batch'}, 'output': {0: 'batch'}},\n",
    "    opset_version=11,\n",
    "    export_params=True,\n",
    "    do_constant_folding=True\n",
    ")\n"
   ]
  },
  {
   "cell_type": "code",
   "execution_count": 3,
   "id": "a2c34818",
   "metadata": {},
   "outputs": [
    {
     "name": "stdout",
     "output_type": "stream",
     "text": [
      "✅ ONNX model is valid!\n",
      "Opset version: [11]\n",
      "Inputs: ['input']\n",
      "Outputs: ['output']\n"
     ]
    }
   ],
   "source": [
    "import onnx\n",
    "\n",
    "onnx_model_path = \"build/csrnet_mobile_B.onnx\"\n",
    "model = onnx.load(onnx_model_path)\n",
    "onnx.checker.check_model(model)\n",
    "\n",
    "print(\"✅ ONNX model is valid!\")\n",
    "print(\"Opset version:\", [op.version for op in model.opset_import])\n",
    "print(\"Inputs:\", [i.name for i in model.graph.input])\n",
    "print(\"Outputs:\", [o.name for o in model.graph.output])"
   ]
  },
  {
   "cell_type": "code",
   "execution_count": 16,
   "id": "be5b3bfc",
   "metadata": {},
   "outputs": [],
   "source": [
    "# Convert onnx -> pb -> tflite use this link https://colab.research.google.com/drive/1_fbN7caPwhKvxNDkljw-dHt_xtel7Eob#scrollTo=ld0uLw7QRBir"
   ]
  }
 ],
 "metadata": {
  "kernelspec": {
   "display_name": "venv",
   "language": "python",
   "name": "python3"
  },
  "language_info": {
   "codemirror_mode": {
    "name": "ipython",
    "version": 3
   },
   "file_extension": ".py",
   "mimetype": "text/x-python",
   "name": "python",
   "nbconvert_exporter": "python",
   "pygments_lexer": "ipython3",
   "version": "3.12.3"
  }
 },
 "nbformat": 4,
 "nbformat_minor": 5
}
