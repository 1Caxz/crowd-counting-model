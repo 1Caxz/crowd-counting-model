{
 "cells": [
  {
   "cell_type": "code",
   "execution_count": 2,
   "id": "6d884bfb",
   "metadata": {},
   "outputs": [
    {
     "name": "stderr",
     "output_type": "stream",
     "text": [
      "Evaluating: 100%|██████████| 182/182 [00:07<00:00, 23.17it/s]"
     ]
    },
    {
     "name": "stdout",
     "output_type": "stream",
     "text": [
      "\n",
      "Evaluation Results:\n",
      "  MAE  = 172.29\n",
      "  RMSE = 258.47\n"
     ]
    },
    {
     "name": "stderr",
     "output_type": "stream",
     "text": [
      "\n"
     ]
    }
   ],
   "source": [
    "import os\n",
    "import h5py\n",
    "import argparse\n",
    "import numpy as np\n",
    "from tqdm import tqdm\n",
    "from PIL import Image\n",
    "import torch\n",
    "from torchvision import transforms\n",
    "from models.csrnet_mbv3 import MobileCSRNet\n",
    "from models.csrnet_vgg import CSRNet\n",
    "\n",
    "MODEL=\"build/csrnet_mobile_A.pt\"\n",
    "PREDDIR=\"\"\n",
    "PART=\"A\"\n",
    "\n",
    "def load_model(model_path, device):\n",
    "    model = MobileCSRNet().to(device)\n",
    "    model.load_state_dict(torch.load(MODEL, map_location=device, weights_only=False))\n",
    "    # checkpoint = torch.load(MODEL, map_location=device, weights_only=False)\n",
    "    # model.load_state_dict(checkpoint['state_dict'])\n",
    "    model.eval()\n",
    "    return model\n",
    "\n",
    "def get_transform():\n",
    "    return transforms.Compose([\n",
    "        transforms.Resize((512, 512)),\n",
    "        # transforms.RandomHorizontalFlip(p=0.5),\n",
    "        # transforms.ColorJitter(brightness=0.2, contrast=0.2),\n",
    "        transforms.ToTensor(),\n",
    "        transforms.Normalize([0.485, 0.456, 0.406],\n",
    "                             [0.229, 0.224, 0.225])\n",
    "    ])\n",
    "\n",
    "def predict_density(model, image_path, device):\n",
    "    image = Image.open(image_path).convert(\"RGB\")\n",
    "    input_tensor = get_transform()(image).unsqueeze(0).to(device)\n",
    "    with torch.no_grad():\n",
    "        output = model(input_tensor).cpu().squeeze(0).squeeze(0).numpy()\n",
    "    return output\n",
    "\n",
    "def evaluate(gt_dir, img_dir=None, model=None, pred_dir=None, device='cpu'):\n",
    "    mae, mse, total = 0.0, 0.0, 0\n",
    "    gt_files = sorted([f for f in os.listdir(gt_dir) if f.endswith('.h5')])\n",
    "\n",
    "    for fname in tqdm(gt_files, desc=\"Evaluating\"):\n",
    "        gt_path = os.path.join(gt_dir, fname)\n",
    "        with h5py.File(gt_path, 'r') as f:\n",
    "            gt_density = np.asarray(f['density'])\n",
    "        gt_count = gt_density.sum()\n",
    "\n",
    "        if model and img_dir:\n",
    "            img_path = os.path.join(img_dir, fname.replace('.h5', '.jpg').replace('GT_', ''))\n",
    "            pred_density = predict_density(model, img_path, device)\n",
    "        elif pred_dir:\n",
    "            pred_path = os.path.join(pred_dir, fname)\n",
    "            if not os.path.exists(pred_path):\n",
    "                print(f\"Missing prediction for {fname}, skipping.\")\n",
    "                continue\n",
    "            with h5py.File(pred_path, 'r') as f:\n",
    "                pred_density = np.asarray(f['density'])\n",
    "        else:\n",
    "            raise ValueError(\"Either model+img_dir or pred_dir must be provided.\")\n",
    "\n",
    "        pred_count = pred_density.sum()\n",
    "        error = abs(gt_count - pred_count)\n",
    "        mae += error\n",
    "        mse += error ** 2\n",
    "        total += 1\n",
    "\n",
    "    mae /= total\n",
    "    rmse = (mse / total) ** 0.5\n",
    "\n",
    "    print(f\"\\nEvaluation Results:\")\n",
    "    print(f\"  MAE  = {mae:.2f}\")\n",
    "    print(f\"  RMSE = {rmse:.2f}\")\n",
    "\n",
    "def main():\n",
    "    part = PART.upper()\n",
    "    root = os.path.abspath(\"dataset\")\n",
    "    gt_dir = os.path.join(root, f\"part_{part}\", \"test_data\", \"ground-truth\")\n",
    "    img_dir = os.path.join(root, f\"part_{part}\", \"test_data\", \"images\")\n",
    "\n",
    "    if not os.path.isdir(gt_dir):\n",
    "        raise FileNotFoundError(f\"Ground truth directory not found: {gt_dir}\")\n",
    "\n",
    "    device = torch.device('cuda' if torch.cuda.is_available() else 'cpu')\n",
    "\n",
    "    if MODEL:\n",
    "        model = load_model(MODEL, device)\n",
    "        evaluate(gt_dir, img_dir=img_dir, model=model, device=device)\n",
    "    elif PREDDIR:\n",
    "        pred_dir = os.path.abspath(PREDDIR)\n",
    "        evaluate(gt_dir, pred_dir=pred_dir)\n",
    "    else:\n",
    "        raise ValueError(\"You must provide either --model or --pred_dir\")\n",
    "\n",
    "if __name__ == '__main__':\n",
    "    main()\n"
   ]
  },
  {
   "cell_type": "code",
   "execution_count": 3,
   "id": "0b49c86b",
   "metadata": {},
   "outputs": [
    {
     "name": "stderr",
     "output_type": "stream",
     "text": [
      "Unsupported operator aten::hardswish_ encountered 20 time(s)\n",
      "Unsupported operator aten::add_ encountered 10 time(s)\n",
      "Unsupported operator aten::hardsigmoid encountered 8 time(s)\n",
      "Unsupported operator aten::mul encountered 8 time(s)\n"
     ]
    },
    {
     "name": "stdout",
     "output_type": "stream",
     "text": [
      "FLOPs: 3.90 GFLOPs\n",
      "Params: 13.66 M\n"
     ]
    }
   ],
   "source": [
    "import torch\n",
    "from models.csrnet_mbv3 import MobileCSRNet\n",
    "from fvcore.nn import FlopCountAnalysis, parameter_count\n",
    "\n",
    "MODEL=\"build/csrnet_mobile_A.pt\"\n",
    "\n",
    "# Inisialisasi model\n",
    "model = MobileCSRNet()\n",
    "model.load_state_dict(torch.load(MODEL, map_location='cpu', weights_only=False))\n",
    "# checkpoint = torch.load(MODEL, map_location=device, weights_only=False)\n",
    "# model.load_state_dict(checkpoint['state_dict'])\n",
    "model.eval()\n",
    "\n",
    "# Input dummy sesuai resolusi saat training\n",
    "dummy_input = torch.randn(1, 3, 512, 512)\n",
    "\n",
    "# Hitung FLOPs dan jumlah parameter\n",
    "flops = FlopCountAnalysis(model, dummy_input)\n",
    "params = parameter_count(model)\n",
    "\n",
    "print(f\"FLOPs: {flops.total() / 1e9:.2f} GFLOPs\")\n",
    "print(f\"Params: {params[''] / 1e6:.2f} M\")"
   ]
  }
 ],
 "metadata": {
  "kernelspec": {
   "display_name": "venv",
   "language": "python",
   "name": "python3"
  },
  "language_info": {
   "codemirror_mode": {
    "name": "ipython",
    "version": 3
   },
   "file_extension": ".py",
   "mimetype": "text/x-python",
   "name": "python",
   "nbconvert_exporter": "python",
   "pygments_lexer": "ipython3",
   "version": "3.12.3"
  }
 },
 "nbformat": 4,
 "nbformat_minor": 5
}
